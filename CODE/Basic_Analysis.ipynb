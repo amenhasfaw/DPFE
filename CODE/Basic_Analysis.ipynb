{
 "cells": [
  {
   "attachments": {},
   "cell_type": "markdown",
   "metadata": {},
   "source": [
    "### Inputting Data"
   ]
  },
  {
   "cell_type": "code",
   "execution_count": 57,
   "metadata": {},
   "outputs": [
    {
     "data": {
      "text/html": [
       "<div>\n",
       "<style scoped>\n",
       "    .dataframe tbody tr th:only-of-type {\n",
       "        vertical-align: middle;\n",
       "    }\n",
       "\n",
       "    .dataframe tbody tr th {\n",
       "        vertical-align: top;\n",
       "    }\n",
       "\n",
       "    .dataframe thead th {\n",
       "        text-align: right;\n",
       "    }\n",
       "</style>\n",
       "<table border=\"1\" class=\"dataframe\">\n",
       "  <thead>\n",
       "    <tr style=\"text-align: right;\">\n",
       "      <th></th>\n",
       "      <th>Unnamed: 0</th>\n",
       "      <th>name</th>\n",
       "      <th>last_name</th>\n",
       "      <th>age</th>\n",
       "      <th>gender</th>\n",
       "      <th>time</th>\n",
       "      <th>permanent_country</th>\n",
       "      <th>company</th>\n",
       "      <th>main_industry</th>\n",
       "      <th>wealth_source_details</th>\n",
       "      <th>industry</th>\n",
       "      <th>state</th>\n",
       "      <th>headquarters</th>\n",
       "      <th>countries</th>\n",
       "      <th>annual_income</th>\n",
       "      <th>daily_income</th>\n",
       "      <th>birth_year</th>\n",
       "      <th>name_cleaned</th>\n",
       "    </tr>\n",
       "  </thead>\n",
       "  <tbody>\n",
       "    <tr>\n",
       "      <th>0</th>\n",
       "      <td>675</td>\n",
       "      <td>Abdulla bin Ahmad Al Ghurair</td>\n",
       "      <td>Al Ghurair</td>\n",
       "      <td>67</td>\n",
       "      <td>M</td>\n",
       "      <td>2013</td>\n",
       "      <td>United Arab Emirates-Dubai</td>\n",
       "      <td>Mashreq Bank</td>\n",
       "      <td>Diversified</td>\n",
       "      <td>diversified</td>\n",
       "      <td>Diversified;Banking</td>\n",
       "      <td>NaN</td>\n",
       "      <td>NaN</td>\n",
       "      <td>are</td>\n",
       "      <td>95604000</td>\n",
       "      <td>261928</td>\n",
       "      <td>1955</td>\n",
       "      <td>abdulla_bin_ahmad_al_ghurair</td>\n",
       "    </tr>\n",
       "    <tr>\n",
       "      <th>1</th>\n",
       "      <td>676</td>\n",
       "      <td>Abdulla bin Ahmad Al Ghurair</td>\n",
       "      <td>Al Ghurair</td>\n",
       "      <td>67</td>\n",
       "      <td>M</td>\n",
       "      <td>2013</td>\n",
       "      <td>United Arab Emirates-Dubai</td>\n",
       "      <td>Mashreq Bank</td>\n",
       "      <td>Diversified</td>\n",
       "      <td>diversified</td>\n",
       "      <td>Diversified;Banking</td>\n",
       "      <td>NaN</td>\n",
       "      <td>NaN</td>\n",
       "      <td>are</td>\n",
       "      <td>95604000</td>\n",
       "      <td>399254</td>\n",
       "      <td>1955</td>\n",
       "      <td>abdulla_bin_ahmad_al_ghurair</td>\n",
       "    </tr>\n",
       "    <tr>\n",
       "      <th>2</th>\n",
       "      <td>677</td>\n",
       "      <td>Abdulla bin Ahmad Al Ghurair</td>\n",
       "      <td>Al Ghurair</td>\n",
       "      <td>67</td>\n",
       "      <td>M</td>\n",
       "      <td>2013</td>\n",
       "      <td>United Arab Emirates-Dubai</td>\n",
       "      <td>Mashreq Bank</td>\n",
       "      <td>Diversified</td>\n",
       "      <td>diversified</td>\n",
       "      <td>Diversified;Banking</td>\n",
       "      <td>NaN</td>\n",
       "      <td>NaN</td>\n",
       "      <td>are</td>\n",
       "      <td>95604000</td>\n",
       "      <td>536021</td>\n",
       "      <td>1955</td>\n",
       "      <td>abdulla_bin_ahmad_al_ghurair</td>\n",
       "    </tr>\n",
       "    <tr>\n",
       "      <th>3</th>\n",
       "      <td>678</td>\n",
       "      <td>Abdulla bin Ahmad Al Ghurair</td>\n",
       "      <td>Al Ghurair</td>\n",
       "      <td>67</td>\n",
       "      <td>M</td>\n",
       "      <td>2013</td>\n",
       "      <td>United Arab Emirates-Dubai</td>\n",
       "      <td>Mashreq Bank</td>\n",
       "      <td>Diversified</td>\n",
       "      <td>diversified</td>\n",
       "      <td>Diversified;Banking</td>\n",
       "      <td>NaN</td>\n",
       "      <td>NaN</td>\n",
       "      <td>are</td>\n",
       "      <td>95604000</td>\n",
       "      <td>410391</td>\n",
       "      <td>1955</td>\n",
       "      <td>abdulla_bin_ahmad_al_ghurair</td>\n",
       "    </tr>\n",
       "    <tr>\n",
       "      <th>4</th>\n",
       "      <td>679</td>\n",
       "      <td>Abdulla bin Ahmad Al Ghurair</td>\n",
       "      <td>Al Ghurair</td>\n",
       "      <td>67</td>\n",
       "      <td>M</td>\n",
       "      <td>2013</td>\n",
       "      <td>United Arab Emirates-Dubai</td>\n",
       "      <td>Mashreq Bank</td>\n",
       "      <td>Diversified</td>\n",
       "      <td>diversified</td>\n",
       "      <td>Diversified;Banking</td>\n",
       "      <td>NaN</td>\n",
       "      <td>NaN</td>\n",
       "      <td>are</td>\n",
       "      <td>95604000</td>\n",
       "      <td>558904</td>\n",
       "      <td>1955</td>\n",
       "      <td>abdulla_bin_ahmad_al_ghurair</td>\n",
       "    </tr>\n",
       "    <tr>\n",
       "      <th>...</th>\n",
       "      <td>...</td>\n",
       "      <td>...</td>\n",
       "      <td>...</td>\n",
       "      <td>...</td>\n",
       "      <td>...</td>\n",
       "      <td>...</td>\n",
       "      <td>...</td>\n",
       "      <td>...</td>\n",
       "      <td>...</td>\n",
       "      <td>...</td>\n",
       "      <td>...</td>\n",
       "      <td>...</td>\n",
       "      <td>...</td>\n",
       "      <td>...</td>\n",
       "      <td>...</td>\n",
       "      <td>...</td>\n",
       "      <td>...</td>\n",
       "      <td>...</td>\n",
       "    </tr>\n",
       "    <tr>\n",
       "      <th>352364</th>\n",
       "      <td>358313</td>\n",
       "      <td>Zygmunt Solorz-Zak</td>\n",
       "      <td>Solorz-Zak</td>\n",
       "      <td>65</td>\n",
       "      <td>M</td>\n",
       "      <td>2022</td>\n",
       "      <td>Poland-Warsaw</td>\n",
       "      <td>Cyfrowy Polsat</td>\n",
       "      <td>Media &amp; Entertainment</td>\n",
       "      <td>TV broadcasting; TV station</td>\n",
       "      <td>Media &amp; Entertainment; Media;Media;Entertainment</td>\n",
       "      <td>NaN</td>\n",
       "      <td>NaN</td>\n",
       "      <td>pol</td>\n",
       "      <td>74820000</td>\n",
       "      <td>219780</td>\n",
       "      <td>1957</td>\n",
       "      <td>zygmunt_solorz_zak</td>\n",
       "    </tr>\n",
       "    <tr>\n",
       "      <th>352365</th>\n",
       "      <td>358314</td>\n",
       "      <td>Zygmunt Solorz-Zak</td>\n",
       "      <td>Solorz-Zak</td>\n",
       "      <td>65</td>\n",
       "      <td>M</td>\n",
       "      <td>2022</td>\n",
       "      <td>Poland-Warsaw</td>\n",
       "      <td>Cyfrowy Polsat</td>\n",
       "      <td>Media &amp; Entertainment</td>\n",
       "      <td>TV broadcasting; TV station</td>\n",
       "      <td>Media &amp; Entertainment; Media;Media;Entertainment</td>\n",
       "      <td>NaN</td>\n",
       "      <td>NaN</td>\n",
       "      <td>pol</td>\n",
       "      <td>74820000</td>\n",
       "      <td>207493</td>\n",
       "      <td>1957</td>\n",
       "      <td>zygmunt_solorz_zak</td>\n",
       "    </tr>\n",
       "    <tr>\n",
       "      <th>352366</th>\n",
       "      <td>358315</td>\n",
       "      <td>Zygmunt Solorz-Zak</td>\n",
       "      <td>Solorz-Zak</td>\n",
       "      <td>65</td>\n",
       "      <td>M</td>\n",
       "      <td>2022</td>\n",
       "      <td>Poland-Warsaw</td>\n",
       "      <td>Cyfrowy Polsat</td>\n",
       "      <td>Media &amp; Entertainment</td>\n",
       "      <td>TV broadcasting; TV station</td>\n",
       "      <td>Media &amp; Entertainment; Media;Media;Entertainment</td>\n",
       "      <td>NaN</td>\n",
       "      <td>NaN</td>\n",
       "      <td>pol</td>\n",
       "      <td>74820000</td>\n",
       "      <td>180887</td>\n",
       "      <td>1957</td>\n",
       "      <td>zygmunt_solorz_zak</td>\n",
       "    </tr>\n",
       "    <tr>\n",
       "      <th>352367</th>\n",
       "      <td>358316</td>\n",
       "      <td>Zygmunt Solorz-Zak</td>\n",
       "      <td>Solorz-Zak</td>\n",
       "      <td>65</td>\n",
       "      <td>M</td>\n",
       "      <td>2022</td>\n",
       "      <td>Poland-Warsaw</td>\n",
       "      <td>Cyfrowy Polsat</td>\n",
       "      <td>Media &amp; Entertainment</td>\n",
       "      <td>TV broadcasting; TV station</td>\n",
       "      <td>Media &amp; Entertainment; Media;Media;Entertainment</td>\n",
       "      <td>NaN</td>\n",
       "      <td>NaN</td>\n",
       "      <td>pol</td>\n",
       "      <td>74820000</td>\n",
       "      <td>231452</td>\n",
       "      <td>1957</td>\n",
       "      <td>zygmunt_solorz_zak</td>\n",
       "    </tr>\n",
       "    <tr>\n",
       "      <th>352368</th>\n",
       "      <td>358317</td>\n",
       "      <td>Zygmunt Solorz-Zak</td>\n",
       "      <td>Solorz-Zak</td>\n",
       "      <td>65</td>\n",
       "      <td>M</td>\n",
       "      <td>2022</td>\n",
       "      <td>Poland-Warsaw</td>\n",
       "      <td>Cyfrowy Polsat</td>\n",
       "      <td>Media &amp; Entertainment</td>\n",
       "      <td>TV broadcasting; TV station</td>\n",
       "      <td>Media &amp; Entertainment; Media;Media;Entertainment</td>\n",
       "      <td>NaN</td>\n",
       "      <td>NaN</td>\n",
       "      <td>pol</td>\n",
       "      <td>74820000</td>\n",
       "      <td>204986</td>\n",
       "      <td>1957</td>\n",
       "      <td>zygmunt_solorz_zak</td>\n",
       "    </tr>\n",
       "  </tbody>\n",
       "</table>\n",
       "<p>352369 rows × 18 columns</p>\n",
       "</div>"
      ],
      "text/plain": [
       "        Unnamed: 0                          name   last_name  age gender  \\\n",
       "0              675  Abdulla bin Ahmad Al Ghurair  Al Ghurair   67      M   \n",
       "1              676  Abdulla bin Ahmad Al Ghurair  Al Ghurair   67      M   \n",
       "2              677  Abdulla bin Ahmad Al Ghurair  Al Ghurair   67      M   \n",
       "3              678  Abdulla bin Ahmad Al Ghurair  Al Ghurair   67      M   \n",
       "4              679  Abdulla bin Ahmad Al Ghurair  Al Ghurair   67      M   \n",
       "...            ...                           ...         ...  ...    ...   \n",
       "352364      358313            Zygmunt Solorz-Zak  Solorz-Zak   65      M   \n",
       "352365      358314            Zygmunt Solorz-Zak  Solorz-Zak   65      M   \n",
       "352366      358315            Zygmunt Solorz-Zak  Solorz-Zak   65      M   \n",
       "352367      358316            Zygmunt Solorz-Zak  Solorz-Zak   65      M   \n",
       "352368      358317            Zygmunt Solorz-Zak  Solorz-Zak   65      M   \n",
       "\n",
       "        time           permanent_country         company  \\\n",
       "0       2013  United Arab Emirates-Dubai    Mashreq Bank   \n",
       "1       2013  United Arab Emirates-Dubai    Mashreq Bank   \n",
       "2       2013  United Arab Emirates-Dubai    Mashreq Bank   \n",
       "3       2013  United Arab Emirates-Dubai    Mashreq Bank   \n",
       "4       2013  United Arab Emirates-Dubai    Mashreq Bank   \n",
       "...      ...                         ...             ...   \n",
       "352364  2022               Poland-Warsaw  Cyfrowy Polsat   \n",
       "352365  2022               Poland-Warsaw  Cyfrowy Polsat   \n",
       "352366  2022               Poland-Warsaw  Cyfrowy Polsat   \n",
       "352367  2022               Poland-Warsaw  Cyfrowy Polsat   \n",
       "352368  2022               Poland-Warsaw  Cyfrowy Polsat   \n",
       "\n",
       "                main_industry        wealth_source_details  \\\n",
       "0                 Diversified                  diversified   \n",
       "1                 Diversified                  diversified   \n",
       "2                 Diversified                  diversified   \n",
       "3                 Diversified                  diversified   \n",
       "4                 Diversified                  diversified   \n",
       "...                       ...                          ...   \n",
       "352364  Media & Entertainment  TV broadcasting; TV station   \n",
       "352365  Media & Entertainment  TV broadcasting; TV station   \n",
       "352366  Media & Entertainment  TV broadcasting; TV station   \n",
       "352367  Media & Entertainment  TV broadcasting; TV station   \n",
       "352368  Media & Entertainment  TV broadcasting; TV station   \n",
       "\n",
       "                                                industry state headquarters  \\\n",
       "0                                    Diversified;Banking   NaN          NaN   \n",
       "1                                    Diversified;Banking   NaN          NaN   \n",
       "2                                    Diversified;Banking   NaN          NaN   \n",
       "3                                    Diversified;Banking   NaN          NaN   \n",
       "4                                    Diversified;Banking   NaN          NaN   \n",
       "...                                                  ...   ...          ...   \n",
       "352364  Media & Entertainment; Media;Media;Entertainment   NaN          NaN   \n",
       "352365  Media & Entertainment; Media;Media;Entertainment   NaN          NaN   \n",
       "352366  Media & Entertainment; Media;Media;Entertainment   NaN          NaN   \n",
       "352367  Media & Entertainment; Media;Media;Entertainment   NaN          NaN   \n",
       "352368  Media & Entertainment; Media;Media;Entertainment   NaN          NaN   \n",
       "\n",
       "       countries  annual_income  daily_income  birth_year  \\\n",
       "0            are       95604000        261928        1955   \n",
       "1            are       95604000        399254        1955   \n",
       "2            are       95604000        536021        1955   \n",
       "3            are       95604000        410391        1955   \n",
       "4            are       95604000        558904        1955   \n",
       "...          ...            ...           ...         ...   \n",
       "352364       pol       74820000        219780        1957   \n",
       "352365       pol       74820000        207493        1957   \n",
       "352366       pol       74820000        180887        1957   \n",
       "352367       pol       74820000        231452        1957   \n",
       "352368       pol       74820000        204986        1957   \n",
       "\n",
       "                        name_cleaned  \n",
       "0       abdulla_bin_ahmad_al_ghurair  \n",
       "1       abdulla_bin_ahmad_al_ghurair  \n",
       "2       abdulla_bin_ahmad_al_ghurair  \n",
       "3       abdulla_bin_ahmad_al_ghurair  \n",
       "4       abdulla_bin_ahmad_al_ghurair  \n",
       "...                              ...  \n",
       "352364            zygmunt_solorz_zak  \n",
       "352365            zygmunt_solorz_zak  \n",
       "352366            zygmunt_solorz_zak  \n",
       "352367            zygmunt_solorz_zak  \n",
       "352368            zygmunt_solorz_zak  \n",
       "\n",
       "[352369 rows x 18 columns]"
      ]
     },
     "execution_count": 57,
     "metadata": {},
     "output_type": "execute_result"
    }
   ],
   "source": [
    "import numpy as np\n",
    "import pandas as pd\n",
    "\n",
    "\n",
    "df = pd.read_csv('../DATA/billionaire.csv')\n",
    "df"
   ]
  },
  {
   "attachments": {},
   "cell_type": "markdown",
   "metadata": {},
   "source": [
    "### Analyzing the type of Data"
   ]
  },
  {
   "cell_type": "code",
   "execution_count": 27,
   "metadata": {},
   "outputs": [
    {
     "data": {
      "text/plain": [
       "Unnamed: 0                int64\n",
       "name                     object\n",
       "last_name                object\n",
       "age                       int64\n",
       "gender                   object\n",
       "time                      int64\n",
       "permanent_country        object\n",
       "company                  object\n",
       "main_industry            object\n",
       "wealth_source_details    object\n",
       "industry                 object\n",
       "state                    object\n",
       "headquarters             object\n",
       "countries                object\n",
       "annual_income             int64\n",
       "daily_income              int64\n",
       "birth_year                int64\n",
       "name_cleaned             object\n",
       "dtype: object"
      ]
     },
     "execution_count": 27,
     "metadata": {},
     "output_type": "execute_result"
    }
   ],
   "source": [
    "df.dtypes"
   ]
  },
  {
   "attachments": {},
   "cell_type": "markdown",
   "metadata": {},
   "source": [
    "### Analyzing the data:"
   ]
  },
  {
   "attachments": {},
   "cell_type": "markdown",
   "metadata": {},
   "source": [
    "#### Handling missing values"
   ]
  },
  {
   "cell_type": "code",
   "execution_count": 28,
   "metadata": {},
   "outputs": [
    {
     "data": {
      "text/plain": [
       "Unnamed: 0                    0\n",
       "name                          0\n",
       "last_name                 10850\n",
       "age                           0\n",
       "gender                    11892\n",
       "time                          0\n",
       "permanent_country         47691\n",
       "company                   25500\n",
       "main_industry                 0\n",
       "wealth_source_details     10922\n",
       "industry                     49\n",
       "state                    193179\n",
       "headquarters             218714\n",
       "countries                     0\n",
       "annual_income                 0\n",
       "daily_income                  0\n",
       "birth_year                    0\n",
       "name_cleaned                  0\n",
       "dtype: int64"
      ]
     },
     "execution_count": 28,
     "metadata": {},
     "output_type": "execute_result"
    }
   ],
   "source": [
    "df.isna().sum()"
   ]
  },
  {
   "cell_type": "code",
   "execution_count": 58,
   "metadata": {},
   "outputs": [
    {
     "data": {
      "text/plain": [
       "Unnamed: 0                    0\n",
       "name                          0\n",
       "last_name                 10850\n",
       "age                           0\n",
       "gender                        0\n",
       "time                          0\n",
       "permanent_country         47691\n",
       "company                   25500\n",
       "main_industry                 0\n",
       "wealth_source_details     10922\n",
       "industry                     49\n",
       "state                    193179\n",
       "headquarters             218714\n",
       "countries                     0\n",
       "annual_income                 0\n",
       "daily_income                  0\n",
       "birth_year                    0\n",
       "name_cleaned                  0\n",
       "dtype: int64"
      ]
     },
     "execution_count": 58,
     "metadata": {},
     "output_type": "execute_result"
    }
   ],
   "source": [
    "df1 = df\n",
    "df1['gender'] =  df['gender'].fillna(value='M')\n",
    "df1.isna().sum()\n"
   ]
  },
  {
   "cell_type": "code",
   "execution_count": 65,
   "metadata": {},
   "outputs": [
    {
     "data": {
      "text/plain": [
       "Unnamed: 0               0\n",
       "name                     0\n",
       "last_name                0\n",
       "age                      0\n",
       "gender                   0\n",
       "time                     0\n",
       "permanent_country        0\n",
       "company                  0\n",
       "main_industry            0\n",
       "wealth_source_details    0\n",
       "industry                 0\n",
       "state                    0\n",
       "headquarters             0\n",
       "countries                0\n",
       "annual_income            0\n",
       "daily_income             0\n",
       "birth_year               0\n",
       "name_cleaned             0\n",
       "dtype: int64"
      ]
     },
     "execution_count": 65,
     "metadata": {},
     "output_type": "execute_result"
    }
   ],
   "source": [
    "df1 = df.dropna()\n",
    "df1.isna().sum()"
   ]
  },
  {
   "attachments": {},
   "cell_type": "markdown",
   "metadata": {},
   "source": [
    "#### Cardinality"
   ]
  },
  {
   "cell_type": "code",
   "execution_count": 31,
   "metadata": {},
   "outputs": [
    {
     "data": {
      "text/plain": [
       "Unnamed: 0               352369\n",
       "name                       4976\n",
       "last_name                  2407\n",
       "age                          87\n",
       "gender                        3\n",
       "time                         21\n",
       "permanent_country          1056\n",
       "company                    3103\n",
       "main_industry               190\n",
       "wealth_source_details      1807\n",
       "industry                   2223\n",
       "state                       130\n",
       "headquarters                 91\n",
       "countries                   198\n",
       "annual_income              3044\n",
       "daily_income               2998\n",
       "birth_year                   87\n",
       "name_cleaned               5014\n",
       "dtype: int64"
      ]
     },
     "execution_count": 31,
     "metadata": {},
     "output_type": "execute_result"
    }
   ],
   "source": [
    "df.nunique()"
   ]
  },
  {
   "cell_type": "code",
   "execution_count": 45,
   "metadata": {},
   "outputs": [
    {
     "data": {
      "text/plain": [
       "1056"
      ]
     },
     "execution_count": 45,
     "metadata": {},
     "output_type": "execute_result"
    }
   ],
   "source": [
    "df['permanent_country'].nunique()"
   ]
  },
  {
   "cell_type": "code",
   "execution_count": 59,
   "metadata": {},
   "outputs": [
    {
     "data": {
      "text/plain": [
       "array(['United Arab Emirates', 'China', 'Italy', nan, 'Mexico',\n",
       "       'United States', 'France', 'United Kingdom', 'India', 'Germany',\n",
       "       'Argentina', 'Switzerland', 'Thailand', 'Brazil', 'Chile',\n",
       "       'Norway', 'Japan', 'Ireland', 'Netherlands', 'Indonesia',\n",
       "       'Malaysia', 'South Korea', 'Australia', 'Singapore', 'Morocco',\n",
       "       'Russia', 'Monaco', 'Saudi Arabia', 'Nigeria', 'USA', 'Denmark',\n",
       "       'Turkey', 'China ', 'UK', 'Canada', 'Spain', 'Kazakhstan',\n",
       "       'Portugal', 'Israel', 'Peru', 'Czech Republic', 'Philippines',\n",
       "       'Sweden', 'Finland', 'Chinese Taipei', 'Belgium', 'UAE', 'Georgia',\n",
       "       'Nepal', 'Bahamas', 'Colombia', 'Cambodia', 'South Africa',\n",
       "       'Liechtenstein', 'Austria', 'Poland', 'United States ', 'USA ',\n",
       "       'Qatar', 'New Zealand', 'Venezuela', 'Brunei', 'Vietnam',\n",
       "       'United Kingdom ', 'Romania', 'Angola', 'Algeria', 'Slovakia',\n",
       "       'ChinaChangsha', 'Cayman Islands', 'Ukraine', 'Kuwait', 'Dubai',\n",
       "       'Egypt', 'Oman', 'Tanzania', 'Lebanon', 'Cyprus',\n",
       "       'United StatesNew Jersey', 'Hungary', 'Bangladesh', 'Greece',\n",
       "       'Melbourne', 'Seychelles'], dtype=object)"
      ]
     },
     "execution_count": 59,
     "metadata": {},
     "output_type": "execute_result"
    }
   ],
   "source": [
    "df['permanent_country'] = df['permanent_country'].str.split('-').str[0]\n",
    "df['permanent_country'].unique()"
   ]
  },
  {
   "attachments": {},
   "cell_type": "markdown",
   "metadata": {},
   "source": [
    "#### Category Frequency"
   ]
  },
  {
   "cell_type": "code",
   "execution_count": 83,
   "metadata": {},
   "outputs": [
    {
     "data": {
      "image/png": "[encoded data removed]",
      "text/plain": [
       "<Figure size 640x480 with 1 Axes>"
      ]
     },
     "metadata": {},
     "output_type": "display_data"
    }
   ],
   "source": [
    "import matplotlib.pyplot as plt\n",
    "\n",
    "age_dist = df.groupby(df.age).size() #CATEGORY FREQUENCY\n",
    "age_dist = np.array(age_dist)\n",
    "age = np.array(df['age'].unique())\n",
    "age.sort()\n",
    "age\n",
    "\n",
    "\n",
    "plt.bar(age, age_dist)\n",
    "plt.title('Billionaire Age Distribution')\n",
    "plt.xlabel('Age')\n",
    "plt.ylabel('Number of Billionaires')\n",
    "plt.show()"
   ]
  },
  {
   "attachments": {},
   "cell_type": "markdown",
   "metadata": {},
   "source": [
    "#### Distribution"
   ]
  },
  {
   "cell_type": "code",
   "execution_count": 100,
   "metadata": {},
   "outputs": [
    {
     "data": {
      "text/plain": [
       "<seaborn.axisgrid.FacetGrid at 0x31c376fd0>"
      ]
     },
     "execution_count": 100,
     "metadata": {},
     "output_type": "execute_result"
    },
    {
     "data": {
      "image/png": "[encoded data removed]",
      "text/plain": [
       "<Figure size 500x500 with 1 Axes>"
      ]
     },
     "metadata": {},
     "output_type": "display_data"
    }
   ],
   "source": [
    "import seaborn as sns\n",
    "\n",
    "sns.displot(df['age'], kind='hist')"
   ]
  },
  {
   "attachments": {},
   "cell_type": "markdown",
   "metadata": {},
   "source": [
    "#### Outlier"
   ]
  },
  {
   "cell_type": "code",
   "execution_count": 109,
   "metadata": {},
   "outputs": [
    {
     "name": "stdout",
     "output_type": "stream",
     "text": [
      "1073\n"
     ]
    },
    {
     "ename": "TypeError",
     "evalue": "Cannot perform 'ror_' with a dtyped [int64] array and scalar of type [bool]",
     "output_type": "error",
     "traceback": [
      "\u001b[0;31m---------------------------------------------------------------------------\u001b[0m",
      "\u001b[0;31mTypeError\u001b[0m                                 Traceback (most recent call last)",
      "File \u001b[0;32m~/opt/anaconda3/lib/python3.9/site-packages/pandas/core/ops/array_ops.py:305\u001b[0m, in \u001b[0;36mna_logical_op\u001b[0;34m(x, y, op)\u001b[0m\n\u001b[1;32m    296\u001b[0m \u001b[39mtry\u001b[39;00m:\n\u001b[1;32m    297\u001b[0m     \u001b[39m# For exposition, write:\u001b[39;00m\n\u001b[1;32m    298\u001b[0m     \u001b[39m#  yarr = isinstance(y, np.ndarray)\u001b[39;00m\n\u001b[0;32m   (...)\u001b[0m\n\u001b[1;32m    303\u001b[0m     \u001b[39m# Then Cases where this goes through without raising include:\u001b[39;00m\n\u001b[1;32m    304\u001b[0m     \u001b[39m#  (xint or xbool) and (yint or bool)\u001b[39;00m\n\u001b[0;32m--> 305\u001b[0m     result \u001b[39m=\u001b[39m op(x, y)\n\u001b[1;32m    306\u001b[0m \u001b[39mexcept\u001b[39;00m \u001b[39mTypeError\u001b[39;00m:\n",
      "File \u001b[0;32m~/opt/anaconda3/lib/python3.9/site-packages/pandas/core/roperator.py:58\u001b[0m, in \u001b[0;36mror_\u001b[0;34m(left, right)\u001b[0m\n\u001b[1;32m     57\u001b[0m \u001b[39mdef\u001b[39;00m \u001b[39mror_\u001b[39m(left, right):\n\u001b[0;32m---> 58\u001b[0m     \u001b[39mreturn\u001b[39;00m operator\u001b[39m.\u001b[39;49mor_(right, left)\n",
      "\u001b[0;31mTypeError\u001b[0m: ufunc 'bitwise_or' not supported for the input types, and the inputs could not be safely coerced to any supported types according to the casting rule ''safe''",
      "\nDuring handling of the above exception, another exception occurred:\n",
      "\u001b[0;31mValueError\u001b[0m                                Traceback (most recent call last)",
      "File \u001b[0;32m~/opt/anaconda3/lib/python3.9/site-packages/pandas/core/ops/array_ops.py:319\u001b[0m, in \u001b[0;36mna_logical_op\u001b[0;34m(x, y, op)\u001b[0m\n\u001b[1;32m    318\u001b[0m \u001b[39mtry\u001b[39;00m:\n\u001b[0;32m--> 319\u001b[0m     result \u001b[39m=\u001b[39m libops\u001b[39m.\u001b[39;49mscalar_binop(x, y, op)\n\u001b[1;32m    320\u001b[0m \u001b[39mexcept\u001b[39;00m (\n\u001b[1;32m    321\u001b[0m     \u001b[39mTypeError\u001b[39;00m,\n\u001b[1;32m    322\u001b[0m     \u001b[39mValueError\u001b[39;00m,\n\u001b[0;32m   (...)\u001b[0m\n\u001b[1;32m    325\u001b[0m     \u001b[39mNotImplementedError\u001b[39;00m,\n\u001b[1;32m    326\u001b[0m ) \u001b[39mas\u001b[39;00m err:\n",
      "File \u001b[0;32m~/opt/anaconda3/lib/python3.9/site-packages/pandas/_libs/ops.pyx:180\u001b[0m, in \u001b[0;36mpandas._libs.ops.scalar_binop\u001b[0;34m()\u001b[0m\n",
      "\u001b[0;31mValueError\u001b[0m: Buffer dtype mismatch, expected 'Python object' but got 'long'",
      "\nThe above exception was the direct cause of the following exception:\n",
      "\u001b[0;31mTypeError\u001b[0m                                 Traceback (most recent call last)",
      "Cell \u001b[0;32mIn[109], line 9\u001b[0m\n\u001b[1;32m      5\u001b[0m outliers \u001b[39m=\u001b[39m ((df[\u001b[39m'\u001b[39m\u001b[39mage\u001b[39m\u001b[39m'\u001b[39m] \u001b[39m<\u001b[39m (Q1 \u001b[39m-\u001b[39m \u001b[39m1.5\u001b[39m \u001b[39m*\u001b[39m IQR)) \u001b[39m|\u001b[39m (df[\u001b[39m'\u001b[39m\u001b[39mage\u001b[39m\u001b[39m'\u001b[39m] \u001b[39m>\u001b[39m (Q3 \u001b[39m+\u001b[39m \u001b[39m1.5\u001b[39m \u001b[39m*\u001b[39m IQR)))\u001b[39m.\u001b[39msum()\n\u001b[1;32m      6\u001b[0m \u001b[39mprint\u001b[39m(outliers)\n\u001b[0;32m----> 9\u001b[0m outliers_df \u001b[39m=\u001b[39m df[df[\u001b[39m'\u001b[39m\u001b[39mage\u001b[39m\u001b[39m'\u001b[39m] \u001b[39m<\u001b[39m (Q1 \u001b[39m-\u001b[39;49m \u001b[39m1.5\u001b[39;49m \u001b[39m*\u001b[39;49m IQR) \u001b[39m|\u001b[39;49m df[\u001b[39m'\u001b[39;49m\u001b[39mage\u001b[39;49m\u001b[39m'\u001b[39;49m] \u001b[39m>\u001b[39m (Q3 \u001b[39m+\u001b[39m \u001b[39m1.5\u001b[39m \u001b[39m*\u001b[39m IQR)]\n\u001b[1;32m     10\u001b[0m outliers_df\n",
      "File \u001b[0;32m~/opt/anaconda3/lib/python3.9/site-packages/pandas/core/generic.py:2113\u001b[0m, in \u001b[0;36mNDFrame.__array_ufunc__\u001b[0;34m(self, ufunc, method, *inputs, **kwargs)\u001b[0m\n\u001b[1;32m   2109\u001b[0m \u001b[39m@final\u001b[39m\n\u001b[1;32m   2110\u001b[0m \u001b[39mdef\u001b[39;00m \u001b[39m__array_ufunc__\u001b[39m(\n\u001b[1;32m   2111\u001b[0m     \u001b[39mself\u001b[39m, ufunc: np\u001b[39m.\u001b[39mufunc, method: \u001b[39mstr\u001b[39m, \u001b[39m*\u001b[39minputs: Any, \u001b[39m*\u001b[39m\u001b[39m*\u001b[39mkwargs: Any\n\u001b[1;32m   2112\u001b[0m ):\n\u001b[0;32m-> 2113\u001b[0m     \u001b[39mreturn\u001b[39;00m arraylike\u001b[39m.\u001b[39;49marray_ufunc(\u001b[39mself\u001b[39;49m, ufunc, method, \u001b[39m*\u001b[39;49minputs, \u001b[39m*\u001b[39;49m\u001b[39m*\u001b[39;49mkwargs)\n",
      "File \u001b[0;32m~/opt/anaconda3/lib/python3.9/site-packages/pandas/core/arraylike.py:265\u001b[0m, in \u001b[0;36marray_ufunc\u001b[0;34m(self, ufunc, method, *inputs, **kwargs)\u001b[0m\n\u001b[1;32m    262\u001b[0m     \u001b[39mreturn\u001b[39;00m result\n\u001b[1;32m    264\u001b[0m \u001b[39m# for binary ops, use our custom dunder methods\u001b[39;00m\n\u001b[0;32m--> 265\u001b[0m result \u001b[39m=\u001b[39m maybe_dispatch_ufunc_to_dunder_op(\u001b[39mself\u001b[39;49m, ufunc, method, \u001b[39m*\u001b[39;49minputs, \u001b[39m*\u001b[39;49m\u001b[39m*\u001b[39;49mkwargs)\n\u001b[1;32m    266\u001b[0m \u001b[39mif\u001b[39;00m result \u001b[39mis\u001b[39;00m \u001b[39mnot\u001b[39;00m \u001b[39mNotImplemented\u001b[39m:\n\u001b[1;32m    267\u001b[0m     \u001b[39mreturn\u001b[39;00m result\n",
      "File \u001b[0;32m~/opt/anaconda3/lib/python3.9/site-packages/pandas/_libs/ops_dispatch.pyx:113\u001b[0m, in \u001b[0;36mpandas._libs.ops_dispatch.maybe_dispatch_ufunc_to_dunder_op\u001b[0;34m()\u001b[0m\n",
      "File \u001b[0;32m~/opt/anaconda3/lib/python3.9/site-packages/pandas/core/ops/common.py:72\u001b[0m, in \u001b[0;36m_unpack_zerodim_and_defer.<locals>.new_method\u001b[0;34m(self, other)\u001b[0m\n\u001b[1;32m     68\u001b[0m             \u001b[39mreturn\u001b[39;00m \u001b[39mNotImplemented\u001b[39m\n\u001b[1;32m     70\u001b[0m other \u001b[39m=\u001b[39m item_from_zerodim(other)\n\u001b[0;32m---> 72\u001b[0m \u001b[39mreturn\u001b[39;00m method(\u001b[39mself\u001b[39;49m, other)\n",
      "File \u001b[0;32m~/opt/anaconda3/lib/python3.9/site-packages/pandas/core/arraylike.py:84\u001b[0m, in \u001b[0;36mOpsMixin.__ror__\u001b[0;34m(self, other)\u001b[0m\n\u001b[1;32m     82\u001b[0m \u001b[39m@unpack_zerodim_and_defer\u001b[39m(\u001b[39m\"\u001b[39m\u001b[39m__ror__\u001b[39m\u001b[39m\"\u001b[39m)\n\u001b[1;32m     83\u001b[0m \u001b[39mdef\u001b[39;00m \u001b[39m__ror__\u001b[39m(\u001b[39mself\u001b[39m, other):\n\u001b[0;32m---> 84\u001b[0m     \u001b[39mreturn\u001b[39;00m \u001b[39mself\u001b[39;49m\u001b[39m.\u001b[39;49m_logical_method(other, roperator\u001b[39m.\u001b[39;49mror_)\n",
      "File \u001b[0;32m~/opt/anaconda3/lib/python3.9/site-packages/pandas/core/series.py:6254\u001b[0m, in \u001b[0;36mSeries._logical_method\u001b[0;34m(self, other, op)\u001b[0m\n\u001b[1;32m   6251\u001b[0m lvalues \u001b[39m=\u001b[39m \u001b[39mself\u001b[39m\u001b[39m.\u001b[39m_values\n\u001b[1;32m   6252\u001b[0m rvalues \u001b[39m=\u001b[39m extract_array(other, extract_numpy\u001b[39m=\u001b[39m\u001b[39mTrue\u001b[39;00m, extract_range\u001b[39m=\u001b[39m\u001b[39mTrue\u001b[39;00m)\n\u001b[0;32m-> 6254\u001b[0m res_values \u001b[39m=\u001b[39m ops\u001b[39m.\u001b[39;49mlogical_op(lvalues, rvalues, op)\n\u001b[1;32m   6255\u001b[0m \u001b[39mreturn\u001b[39;00m \u001b[39mself\u001b[39m\u001b[39m.\u001b[39m_construct_result(res_values, name\u001b[39m=\u001b[39mres_name)\n",
      "File \u001b[0;32m~/opt/anaconda3/lib/python3.9/site-packages/pandas/core/ops/array_ops.py:395\u001b[0m, in \u001b[0;36mlogical_op\u001b[0;34m(left, right, op)\u001b[0m\n\u001b[1;32m    391\u001b[0m \u001b[39m# For int vs int `^`, `|`, `&` are bitwise operators and return\u001b[39;00m\n\u001b[1;32m    392\u001b[0m \u001b[39m#   integer dtypes.  Otherwise these are boolean ops\u001b[39;00m\n\u001b[1;32m    393\u001b[0m filler \u001b[39m=\u001b[39m fill_int \u001b[39mif\u001b[39;00m is_self_int_dtype \u001b[39mand\u001b[39;00m is_other_int_dtype \u001b[39melse\u001b[39;00m fill_bool\n\u001b[0;32m--> 395\u001b[0m res_values \u001b[39m=\u001b[39m na_logical_op(lvalues, rvalues, op)\n\u001b[1;32m    396\u001b[0m \u001b[39m# error: Cannot call function of unknown type\u001b[39;00m\n\u001b[1;32m    397\u001b[0m res_values \u001b[39m=\u001b[39m filler(res_values)  \u001b[39m# type: ignore[operator]\u001b[39;00m\n",
      "File \u001b[0;32m~/opt/anaconda3/lib/python3.9/site-packages/pandas/core/ops/array_ops.py:328\u001b[0m, in \u001b[0;36mna_logical_op\u001b[0;34m(x, y, op)\u001b[0m\n\u001b[1;32m    320\u001b[0m         \u001b[39mexcept\u001b[39;00m (\n\u001b[1;32m    321\u001b[0m             \u001b[39mTypeError\u001b[39;00m,\n\u001b[1;32m    322\u001b[0m             \u001b[39mValueError\u001b[39;00m,\n\u001b[0;32m   (...)\u001b[0m\n\u001b[1;32m    325\u001b[0m             \u001b[39mNotImplementedError\u001b[39;00m,\n\u001b[1;32m    326\u001b[0m         ) \u001b[39mas\u001b[39;00m err:\n\u001b[1;32m    327\u001b[0m             typ \u001b[39m=\u001b[39m \u001b[39mtype\u001b[39m(y)\u001b[39m.\u001b[39m\u001b[39m__name__\u001b[39m\n\u001b[0;32m--> 328\u001b[0m             \u001b[39mraise\u001b[39;00m \u001b[39mTypeError\u001b[39;00m(\n\u001b[1;32m    329\u001b[0m                 \u001b[39mf\u001b[39m\u001b[39m\"\u001b[39m\u001b[39mCannot perform \u001b[39m\u001b[39m'\u001b[39m\u001b[39m{\u001b[39;00mop\u001b[39m.\u001b[39m\u001b[39m__name__\u001b[39m\u001b[39m}\u001b[39;00m\u001b[39m'\u001b[39m\u001b[39m with a dtyped [\u001b[39m\u001b[39m{\u001b[39;00mx\u001b[39m.\u001b[39mdtype\u001b[39m}\u001b[39;00m\u001b[39m] array \u001b[39m\u001b[39m\"\u001b[39m\n\u001b[1;32m    330\u001b[0m                 \u001b[39mf\u001b[39m\u001b[39m\"\u001b[39m\u001b[39mand scalar of type [\u001b[39m\u001b[39m{\u001b[39;00mtyp\u001b[39m}\u001b[39;00m\u001b[39m]\u001b[39m\u001b[39m\"\u001b[39m\n\u001b[1;32m    331\u001b[0m             ) \u001b[39mfrom\u001b[39;00m \u001b[39merr\u001b[39;00m\n\u001b[1;32m    333\u001b[0m \u001b[39mreturn\u001b[39;00m result\u001b[39m.\u001b[39mreshape(x\u001b[39m.\u001b[39mshape)\n",
      "\u001b[0;31mTypeError\u001b[0m: Cannot perform 'ror_' with a dtyped [int64] array and scalar of type [bool]"
     ]
    }
   ],
   "source": [
    "Q1 = df['age'].quantile(0.25)\n",
    "Q3 = df['age'].quantile(0.75)\n",
    "\n",
    "IQR = Q3-Q1\n",
    "outliers = ((df['age'] < (Q1 - 1.5 * IQR)) | (df['age'] > (Q3 + 1.5 * IQR))).sum()\n",
    "print(outliers)\n",
    "\n",
    "\n",
    "outliers_df = df[df['age'] < (Q1 - 1.5 * IQR) | df['age'] > (Q3 + 1.5 * IQR)]\n",
    "outliers_df"
   ]
  }
 ],
 "metadata": {
  "kernelspec": {
   "display_name": "base",
   "language": "python",
   "name": "python3"
  },
  "language_info": {
   "codemirror_mode": {
    "name": "ipython",
    "version": 3
   },
   "file_extension": ".py",
   "mimetype": "text/x-python",
   "name": "python",
   "nbconvert_exporter": "python",
   "pygments_lexer": "ipython3",
   "version": "3.9.7"
  },
  "orig_nbformat": 4
 },
 "nbformat": 4,
 "nbformat_minor": 2
}
